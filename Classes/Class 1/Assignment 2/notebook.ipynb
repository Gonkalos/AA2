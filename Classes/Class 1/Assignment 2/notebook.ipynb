{
 "cells": [
  {
   "cell_type": "markdown",
   "metadata": {
    "slideshow": {
     "slide_type": "-"
    }
   },
   "source": [
    "# Ficha de trabalho 2\n",
    "Ficheiros a usar: \n",
    "* wines.csv - ficheiro com os dados das análises\n",
    "* wines_labels.csv - labels das classes\n",
    "\n",
    "\n",
    "**Sumário:**\n",
    "\n",
    "A data frame containing 177 rows and thirteen columns. These data are the results of chemical analyses of wines grown in the same region in Italy (Piedmont) but derived from three different cultivars (classes).\n"
   ]
  },
  {
   "cell_type": "code",
   "execution_count": 1,
   "metadata": {},
   "outputs": [],
   "source": [
    "import pandas as pd\n",
    "%matplotlib inline\n",
    "import matplotlib.pyplot as plt\n",
    "from scipy import stats\n",
    "import statsmodels.api as sm\n",
    "from sklearn import preprocessing"
   ]
  },
  {
   "cell_type": "markdown",
   "metadata": {
    "collapsed": true
   },
   "source": [
    "1 - Importa os dados presentes nos dois ficheiros."
   ]
  },
  {
   "cell_type": "code",
   "execution_count": 2,
   "metadata": {},
   "outputs": [
    {
     "output_type": "execute_result",
     "data": {
      "text/plain": [
       "     Unnamed: 0  alcohol  malic acid   ash  ash alkalinity  magnesium  \\\n",
       "0             1    13.20        1.78  2.14            11.2        100   \n",
       "1             2    13.16        2.36  2.67            18.6        101   \n",
       "2             3    14.37        1.95  2.50            16.8        113   \n",
       "3             4    13.24        2.59  2.87            21.0        118   \n",
       "4             5    14.20        1.76  2.45            15.2        112   \n",
       "..          ...      ...         ...   ...             ...        ...   \n",
       "172         173    13.71        5.65  2.45            20.5         95   \n",
       "173         174    13.40        3.91  2.48            23.0        102   \n",
       "174         175    13.27        4.28  2.26            20.0        120   \n",
       "175         176    13.17        2.59  2.37            20.0        120   \n",
       "176         177    14.13        4.10  2.74            24.5         96   \n",
       "\n",
       "     tot. phenols  flavonoids  non-flav. phenols  proanth  col. int.  \\\n",
       "0            2.65        2.76               0.26     1.28       4.38   \n",
       "1            2.80        3.24               0.30     2.81       5.68   \n",
       "2            3.85        3.49               0.24     2.18       7.80   \n",
       "3            2.80        2.69               0.39     1.82       4.32   \n",
       "4            3.27        3.39               0.34     1.97       6.75   \n",
       "..            ...         ...                ...      ...        ...   \n",
       "172          1.68        0.61               0.52     1.06       7.70   \n",
       "173          1.80        0.75               0.43     1.41       7.30   \n",
       "174          1.59        0.69               0.43     1.35      10.20   \n",
       "175          1.65        0.68               0.53     1.46       9.30   \n",
       "176          2.05        0.76               0.56     1.35       9.20   \n",
       "\n",
       "     col. hue  OD ratio  proline  \n",
       "0        1.05      3.40     1050  \n",
       "1        1.03      3.17     1185  \n",
       "2        0.86      3.45     1480  \n",
       "3        1.04      2.93      735  \n",
       "4        1.05      2.85     1450  \n",
       "..        ...       ...      ...  \n",
       "172      0.64      1.74      740  \n",
       "173      0.70      1.56      750  \n",
       "174      0.59      1.56      835  \n",
       "175      0.60      1.62      840  \n",
       "176      0.61      1.60      560  \n",
       "\n",
       "[177 rows x 14 columns]"
      ],
      "text/html": "<div>\n<style scoped>\n    .dataframe tbody tr th:only-of-type {\n        vertical-align: middle;\n    }\n\n    .dataframe tbody tr th {\n        vertical-align: top;\n    }\n\n    .dataframe thead th {\n        text-align: right;\n    }\n</style>\n<table border=\"1\" class=\"dataframe\">\n  <thead>\n    <tr style=\"text-align: right;\">\n      <th></th>\n      <th>Unnamed: 0</th>\n      <th>alcohol</th>\n      <th>malic acid</th>\n      <th>ash</th>\n      <th>ash alkalinity</th>\n      <th>magnesium</th>\n      <th>tot. phenols</th>\n      <th>flavonoids</th>\n      <th>non-flav. phenols</th>\n      <th>proanth</th>\n      <th>col. int.</th>\n      <th>col. hue</th>\n      <th>OD ratio</th>\n      <th>proline</th>\n    </tr>\n  </thead>\n  <tbody>\n    <tr>\n      <th>0</th>\n      <td>1</td>\n      <td>13.20</td>\n      <td>1.78</td>\n      <td>2.14</td>\n      <td>11.2</td>\n      <td>100</td>\n      <td>2.65</td>\n      <td>2.76</td>\n      <td>0.26</td>\n      <td>1.28</td>\n      <td>4.38</td>\n      <td>1.05</td>\n      <td>3.40</td>\n      <td>1050</td>\n    </tr>\n    <tr>\n      <th>1</th>\n      <td>2</td>\n      <td>13.16</td>\n      <td>2.36</td>\n      <td>2.67</td>\n      <td>18.6</td>\n      <td>101</td>\n      <td>2.80</td>\n      <td>3.24</td>\n      <td>0.30</td>\n      <td>2.81</td>\n      <td>5.68</td>\n      <td>1.03</td>\n      <td>3.17</td>\n      <td>1185</td>\n    </tr>\n    <tr>\n      <th>2</th>\n      <td>3</td>\n      <td>14.37</td>\n      <td>1.95</td>\n      <td>2.50</td>\n      <td>16.8</td>\n      <td>113</td>\n      <td>3.85</td>\n      <td>3.49</td>\n      <td>0.24</td>\n      <td>2.18</td>\n      <td>7.80</td>\n      <td>0.86</td>\n      <td>3.45</td>\n      <td>1480</td>\n    </tr>\n    <tr>\n      <th>3</th>\n      <td>4</td>\n      <td>13.24</td>\n      <td>2.59</td>\n      <td>2.87</td>\n      <td>21.0</td>\n      <td>118</td>\n      <td>2.80</td>\n      <td>2.69</td>\n      <td>0.39</td>\n      <td>1.82</td>\n      <td>4.32</td>\n      <td>1.04</td>\n      <td>2.93</td>\n      <td>735</td>\n    </tr>\n    <tr>\n      <th>4</th>\n      <td>5</td>\n      <td>14.20</td>\n      <td>1.76</td>\n      <td>2.45</td>\n      <td>15.2</td>\n      <td>112</td>\n      <td>3.27</td>\n      <td>3.39</td>\n      <td>0.34</td>\n      <td>1.97</td>\n      <td>6.75</td>\n      <td>1.05</td>\n      <td>2.85</td>\n      <td>1450</td>\n    </tr>\n    <tr>\n      <th>...</th>\n      <td>...</td>\n      <td>...</td>\n      <td>...</td>\n      <td>...</td>\n      <td>...</td>\n      <td>...</td>\n      <td>...</td>\n      <td>...</td>\n      <td>...</td>\n      <td>...</td>\n      <td>...</td>\n      <td>...</td>\n      <td>...</td>\n      <td>...</td>\n    </tr>\n    <tr>\n      <th>172</th>\n      <td>173</td>\n      <td>13.71</td>\n      <td>5.65</td>\n      <td>2.45</td>\n      <td>20.5</td>\n      <td>95</td>\n      <td>1.68</td>\n      <td>0.61</td>\n      <td>0.52</td>\n      <td>1.06</td>\n      <td>7.70</td>\n      <td>0.64</td>\n      <td>1.74</td>\n      <td>740</td>\n    </tr>\n    <tr>\n      <th>173</th>\n      <td>174</td>\n      <td>13.40</td>\n      <td>3.91</td>\n      <td>2.48</td>\n      <td>23.0</td>\n      <td>102</td>\n      <td>1.80</td>\n      <td>0.75</td>\n      <td>0.43</td>\n      <td>1.41</td>\n      <td>7.30</td>\n      <td>0.70</td>\n      <td>1.56</td>\n      <td>750</td>\n    </tr>\n    <tr>\n      <th>174</th>\n      <td>175</td>\n      <td>13.27</td>\n      <td>4.28</td>\n      <td>2.26</td>\n      <td>20.0</td>\n      <td>120</td>\n      <td>1.59</td>\n      <td>0.69</td>\n      <td>0.43</td>\n      <td>1.35</td>\n      <td>10.20</td>\n      <td>0.59</td>\n      <td>1.56</td>\n      <td>835</td>\n    </tr>\n    <tr>\n      <th>175</th>\n      <td>176</td>\n      <td>13.17</td>\n      <td>2.59</td>\n      <td>2.37</td>\n      <td>20.0</td>\n      <td>120</td>\n      <td>1.65</td>\n      <td>0.68</td>\n      <td>0.53</td>\n      <td>1.46</td>\n      <td>9.30</td>\n      <td>0.60</td>\n      <td>1.62</td>\n      <td>840</td>\n    </tr>\n    <tr>\n      <th>176</th>\n      <td>177</td>\n      <td>14.13</td>\n      <td>4.10</td>\n      <td>2.74</td>\n      <td>24.5</td>\n      <td>96</td>\n      <td>2.05</td>\n      <td>0.76</td>\n      <td>0.56</td>\n      <td>1.35</td>\n      <td>9.20</td>\n      <td>0.61</td>\n      <td>1.60</td>\n      <td>560</td>\n    </tr>\n  </tbody>\n</table>\n<p>177 rows × 14 columns</p>\n</div>"
     },
     "metadata": {},
     "execution_count": 2
    }
   ],
   "source": [
    "df1 = pd.read_csv('wines.csv')\n",
    "df1"
   ]
  },
  {
   "cell_type": "code",
   "execution_count": 3,
   "metadata": {},
   "outputs": [
    {
     "output_type": "execute_result",
     "data": {
      "text/plain": [
       "     Unnamed: 0        x\n",
       "0             1   Barolo\n",
       "1             2   Barolo\n",
       "2             3   Barolo\n",
       "3             4   Barolo\n",
       "4             5   Barolo\n",
       "..          ...      ...\n",
       "172         173  Barbera\n",
       "173         174  Barbera\n",
       "174         175  Barbera\n",
       "175         176  Barbera\n",
       "176         177  Barbera\n",
       "\n",
       "[177 rows x 2 columns]"
      ],
      "text/html": "<div>\n<style scoped>\n    .dataframe tbody tr th:only-of-type {\n        vertical-align: middle;\n    }\n\n    .dataframe tbody tr th {\n        vertical-align: top;\n    }\n\n    .dataframe thead th {\n        text-align: right;\n    }\n</style>\n<table border=\"1\" class=\"dataframe\">\n  <thead>\n    <tr style=\"text-align: right;\">\n      <th></th>\n      <th>Unnamed: 0</th>\n      <th>x</th>\n    </tr>\n  </thead>\n  <tbody>\n    <tr>\n      <th>0</th>\n      <td>1</td>\n      <td>Barolo</td>\n    </tr>\n    <tr>\n      <th>1</th>\n      <td>2</td>\n      <td>Barolo</td>\n    </tr>\n    <tr>\n      <th>2</th>\n      <td>3</td>\n      <td>Barolo</td>\n    </tr>\n    <tr>\n      <th>3</th>\n      <td>4</td>\n      <td>Barolo</td>\n    </tr>\n    <tr>\n      <th>4</th>\n      <td>5</td>\n      <td>Barolo</td>\n    </tr>\n    <tr>\n      <th>...</th>\n      <td>...</td>\n      <td>...</td>\n    </tr>\n    <tr>\n      <th>172</th>\n      <td>173</td>\n      <td>Barbera</td>\n    </tr>\n    <tr>\n      <th>173</th>\n      <td>174</td>\n      <td>Barbera</td>\n    </tr>\n    <tr>\n      <th>174</th>\n      <td>175</td>\n      <td>Barbera</td>\n    </tr>\n    <tr>\n      <th>175</th>\n      <td>176</td>\n      <td>Barbera</td>\n    </tr>\n    <tr>\n      <th>176</th>\n      <td>177</td>\n      <td>Barbera</td>\n    </tr>\n  </tbody>\n</table>\n<p>177 rows × 2 columns</p>\n</div>"
     },
     "metadata": {},
     "execution_count": 3
    }
   ],
   "source": [
    "df2 = pd.read_csv('wines_labels.csv')\n",
    "df2"
   ]
  },
  {
   "cell_type": "markdown",
   "metadata": {},
   "source": [
    "2 - Explora o dataset, indicando:\n",
    " * o número de amostras e atributos, \n",
    " * tipos de dados, \n",
    " * se há valores em falta,\n",
    " * principais estatísticas sobre cada variável dos dados (média, mediana, quartis, ...)"
   ]
  },
  {
   "cell_type": "code",
   "execution_count": 33,
   "metadata": {},
   "outputs": [
    {
     "output_type": "stream",
     "name": "stdout",
     "text": [
      "Dataset wines.csv\n\n- data dimensions:\n\n177 samples, 14 atributes\n\n- data types:\n\nUnnamed: 0             int64\nalcohol              float64\nmalic acid           float64\nash                  float64\nash alkalinity       float64\nmagnesium              int64\ntot. phenols         float64\nflavonoids           float64\nnon-flav. phenols    float64\nproanth              float64\ncol. int.            float64\ncol. hue             float64\nOD ratio             float64\nproline                int64\ndtype: object\n\n- missing values:\n\nUnnamed: 0           0\nalcohol              0\nmalic acid           0\nash                  0\nash alkalinity       0\nmagnesium            0\ntot. phenols         0\nflavonoids           0\nnon-flav. phenols    0\nproanth              0\ncol. int.            0\ncol. hue             0\nOD ratio             0\nproline              0\ndtype: int64\n\n- statistics:\n"
     ]
    },
    {
     "output_type": "execute_result",
     "data": {
      "text/plain": [
       "       Unnamed: 0     alcohol  malic acid         ash  ash alkalinity  \\\n",
       "count  177.000000  177.000000  177.000000  177.000000      177.000000   \n",
       "mean    89.000000   12.993672    2.339887    2.366158       19.516949   \n",
       "std     51.239633    0.808808    1.119314    0.275080        3.336071   \n",
       "min      1.000000   11.030000    0.740000    1.360000       10.600000   \n",
       "25%     45.000000   12.360000    1.600000    2.210000       17.200000   \n",
       "50%     89.000000   13.050000    1.870000    2.360000       19.500000   \n",
       "75%    133.000000   13.670000    3.100000    2.560000       21.500000   \n",
       "max    177.000000   14.830000    5.800000    3.230000       30.000000   \n",
       "\n",
       "        magnesium  tot. phenols  flavonoids  non-flav. phenols     proanth  \\\n",
       "count  177.000000    177.000000  177.000000         177.000000  177.000000   \n",
       "mean    99.587571      2.292260    2.023446           0.362316    1.586949   \n",
       "std     14.174018      0.626465    0.998658           0.124653    0.571545   \n",
       "min     70.000000      0.980000    0.340000           0.130000    0.410000   \n",
       "25%     88.000000      1.740000    1.200000           0.270000    1.250000   \n",
       "50%     98.000000      2.350000    2.130000           0.340000    1.550000   \n",
       "75%    107.000000      2.800000    2.860000           0.440000    1.950000   \n",
       "max    162.000000      3.880000    5.080000           0.660000    3.580000   \n",
       "\n",
       "        col. int.    col. hue    OD ratio      proline  \n",
       "count  177.000000  177.000000  177.000000   177.000000  \n",
       "mean     5.054802    0.956983    2.604294   745.096045  \n",
       "std      2.324446    0.229135    0.705103   314.884046  \n",
       "min      1.280000    0.480000    1.270000   278.000000  \n",
       "25%      3.210000    0.780000    1.930000   500.000000  \n",
       "50%      4.680000    0.960000    2.780000   672.000000  \n",
       "75%      6.200000    1.120000    3.170000   985.000000  \n",
       "max     13.000000    1.710000    4.000000  1680.000000  "
      ],
      "text/html": "<div>\n<style scoped>\n    .dataframe tbody tr th:only-of-type {\n        vertical-align: middle;\n    }\n\n    .dataframe tbody tr th {\n        vertical-align: top;\n    }\n\n    .dataframe thead th {\n        text-align: right;\n    }\n</style>\n<table border=\"1\" class=\"dataframe\">\n  <thead>\n    <tr style=\"text-align: right;\">\n      <th></th>\n      <th>Unnamed: 0</th>\n      <th>alcohol</th>\n      <th>malic acid</th>\n      <th>ash</th>\n      <th>ash alkalinity</th>\n      <th>magnesium</th>\n      <th>tot. phenols</th>\n      <th>flavonoids</th>\n      <th>non-flav. phenols</th>\n      <th>proanth</th>\n      <th>col. int.</th>\n      <th>col. hue</th>\n      <th>OD ratio</th>\n      <th>proline</th>\n    </tr>\n  </thead>\n  <tbody>\n    <tr>\n      <th>count</th>\n      <td>177.000000</td>\n      <td>177.000000</td>\n      <td>177.000000</td>\n      <td>177.000000</td>\n      <td>177.000000</td>\n      <td>177.000000</td>\n      <td>177.000000</td>\n      <td>177.000000</td>\n      <td>177.000000</td>\n      <td>177.000000</td>\n      <td>177.000000</td>\n      <td>177.000000</td>\n      <td>177.000000</td>\n      <td>177.000000</td>\n    </tr>\n    <tr>\n      <th>mean</th>\n      <td>89.000000</td>\n      <td>12.993672</td>\n      <td>2.339887</td>\n      <td>2.366158</td>\n      <td>19.516949</td>\n      <td>99.587571</td>\n      <td>2.292260</td>\n      <td>2.023446</td>\n      <td>0.362316</td>\n      <td>1.586949</td>\n      <td>5.054802</td>\n      <td>0.956983</td>\n      <td>2.604294</td>\n      <td>745.096045</td>\n    </tr>\n    <tr>\n      <th>std</th>\n      <td>51.239633</td>\n      <td>0.808808</td>\n      <td>1.119314</td>\n      <td>0.275080</td>\n      <td>3.336071</td>\n      <td>14.174018</td>\n      <td>0.626465</td>\n      <td>0.998658</td>\n      <td>0.124653</td>\n      <td>0.571545</td>\n      <td>2.324446</td>\n      <td>0.229135</td>\n      <td>0.705103</td>\n      <td>314.884046</td>\n    </tr>\n    <tr>\n      <th>min</th>\n      <td>1.000000</td>\n      <td>11.030000</td>\n      <td>0.740000</td>\n      <td>1.360000</td>\n      <td>10.600000</td>\n      <td>70.000000</td>\n      <td>0.980000</td>\n      <td>0.340000</td>\n      <td>0.130000</td>\n      <td>0.410000</td>\n      <td>1.280000</td>\n      <td>0.480000</td>\n      <td>1.270000</td>\n      <td>278.000000</td>\n    </tr>\n    <tr>\n      <th>25%</th>\n      <td>45.000000</td>\n      <td>12.360000</td>\n      <td>1.600000</td>\n      <td>2.210000</td>\n      <td>17.200000</td>\n      <td>88.000000</td>\n      <td>1.740000</td>\n      <td>1.200000</td>\n      <td>0.270000</td>\n      <td>1.250000</td>\n      <td>3.210000</td>\n      <td>0.780000</td>\n      <td>1.930000</td>\n      <td>500.000000</td>\n    </tr>\n    <tr>\n      <th>50%</th>\n      <td>89.000000</td>\n      <td>13.050000</td>\n      <td>1.870000</td>\n      <td>2.360000</td>\n      <td>19.500000</td>\n      <td>98.000000</td>\n      <td>2.350000</td>\n      <td>2.130000</td>\n      <td>0.340000</td>\n      <td>1.550000</td>\n      <td>4.680000</td>\n      <td>0.960000</td>\n      <td>2.780000</td>\n      <td>672.000000</td>\n    </tr>\n    <tr>\n      <th>75%</th>\n      <td>133.000000</td>\n      <td>13.670000</td>\n      <td>3.100000</td>\n      <td>2.560000</td>\n      <td>21.500000</td>\n      <td>107.000000</td>\n      <td>2.800000</td>\n      <td>2.860000</td>\n      <td>0.440000</td>\n      <td>1.950000</td>\n      <td>6.200000</td>\n      <td>1.120000</td>\n      <td>3.170000</td>\n      <td>985.000000</td>\n    </tr>\n    <tr>\n      <th>max</th>\n      <td>177.000000</td>\n      <td>14.830000</td>\n      <td>5.800000</td>\n      <td>3.230000</td>\n      <td>30.000000</td>\n      <td>162.000000</td>\n      <td>3.880000</td>\n      <td>5.080000</td>\n      <td>0.660000</td>\n      <td>3.580000</td>\n      <td>13.000000</td>\n      <td>1.710000</td>\n      <td>4.000000</td>\n      <td>1680.000000</td>\n    </tr>\n  </tbody>\n</table>\n</div>"
     },
     "metadata": {},
     "execution_count": 33
    }
   ],
   "source": [
    "print('Dataset wines.csv\\n')\n",
    "print('- data dimensions:\\n')\n",
    "print(str(df1.shape[0]) + ' samples, ' + str(df1.shape[1]) + ' atributes\\n')\n",
    "print('- data types:\\n')\n",
    "print(df1.dtypes)\n",
    "print('\\n- missing values:\\n')\n",
    "print(df1.isnull().sum())\n",
    "print('\\n- statistics:')\n",
    "df1.describe()"
   ]
  },
  {
   "cell_type": "code",
   "execution_count": 34,
   "metadata": {},
   "outputs": [
    {
     "output_type": "stream",
     "name": "stdout",
     "text": [
      "Dataset wines_labels.csv\n\n- data dimensions:\n\n177 samples, 2 atributes\n\n- data types:\n\nUnnamed: 0     int64\nx             object\ndtype: object\n\n- missing values:\n\nUnnamed: 0    0\nx             0\ndtype: int64\n\n- statistics:\n"
     ]
    },
    {
     "output_type": "execute_result",
     "data": {
      "text/plain": [
       "       Unnamed: 0\n",
       "count  177.000000\n",
       "mean    89.000000\n",
       "std     51.239633\n",
       "min      1.000000\n",
       "25%     45.000000\n",
       "50%     89.000000\n",
       "75%    133.000000\n",
       "max    177.000000"
      ],
      "text/html": "<div>\n<style scoped>\n    .dataframe tbody tr th:only-of-type {\n        vertical-align: middle;\n    }\n\n    .dataframe tbody tr th {\n        vertical-align: top;\n    }\n\n    .dataframe thead th {\n        text-align: right;\n    }\n</style>\n<table border=\"1\" class=\"dataframe\">\n  <thead>\n    <tr style=\"text-align: right;\">\n      <th></th>\n      <th>Unnamed: 0</th>\n    </tr>\n  </thead>\n  <tbody>\n    <tr>\n      <th>count</th>\n      <td>177.000000</td>\n    </tr>\n    <tr>\n      <th>mean</th>\n      <td>89.000000</td>\n    </tr>\n    <tr>\n      <th>std</th>\n      <td>51.239633</td>\n    </tr>\n    <tr>\n      <th>min</th>\n      <td>1.000000</td>\n    </tr>\n    <tr>\n      <th>25%</th>\n      <td>45.000000</td>\n    </tr>\n    <tr>\n      <th>50%</th>\n      <td>89.000000</td>\n    </tr>\n    <tr>\n      <th>75%</th>\n      <td>133.000000</td>\n    </tr>\n    <tr>\n      <th>max</th>\n      <td>177.000000</td>\n    </tr>\n  </tbody>\n</table>\n</div>"
     },
     "metadata": {},
     "execution_count": 34
    }
   ],
   "source": [
    "print('Dataset wines_labels.csv\\n')\n",
    "print('- data dimensions:\\n')\n",
    "print(str(df2.shape[0]) + ' samples, ' + str(df2.shape[1]) + ' atributes\\n')\n",
    "print('- data types:\\n')\n",
    "print(df2.dtypes)\n",
    "print('\\n- missing values:\\n')\n",
    "print(df2.isnull().sum())\n",
    "print('\\n- statistics:')\n",
    "df2.describe()"
   ]
  },
  {
   "cell_type": "markdown",
   "metadata": {},
   "source": [
    "3- Cria sub-conjuntos do dataset original contendo apenas os dados de cada uma das classes."
   ]
  },
  {
   "cell_type": "code",
   "execution_count": 59,
   "metadata": {},
   "outputs": [],
   "source": [
    "df = pd.concat([df1, df2])\n",
    "df_barolo = df.loc[df['x'] == 'Barolo']\n",
    "df_barbera = df.loc[df['x'] == 'Barbera']"
   ]
  },
  {
   "cell_type": "markdown",
   "metadata": {},
   "source": [
    "4 - Verifica se as amostras provenientes das classes \"Barolo\" e \"Barbera\" têm níveis de alcool significativamente diferentes. De forma a determinar que tipo de teste estatístico usar, determina se os grupos de valores a comparar seguem ou não a distribuição normal (e.g. usando o teste de Shapiro)."
   ]
  },
  {
   "cell_type": "code",
   "execution_count": 78,
   "metadata": {},
   "outputs": [
    {
     "output_type": "stream",
     "name": "stdout",
     "text": [
      "Class \"Barolo\":\n\nstatistic = nan\np-value = 1.0\n\nClass \"Barbera\":\n\nstatistic = nan\np-value = 1.0\n"
     ]
    }
   ],
   "source": [
    "print('Class \\\"Barolo\\\":\\n')\n",
    "shapiro_t1 = stats.shapiro(df_barolo['alcohol'])\n",
    "print('statistic = ' + str(shapiro_t1.statistic))\n",
    "print('p-value = ' + str(shapiro_t1.pvalue))\n",
    "\n",
    "print('\\nClass \\\"Barbera\\\":\\n')\n",
    "shapiro_t2 = stats.shapiro(df_barbera['alcohol'])\n",
    "print('statistic = ' + str(shapiro_t2.statistic))\n",
    "print('p-value = ' + str(shapiro_t2.pvalue))"
   ]
  },
  {
   "cell_type": "markdown",
   "metadata": {},
   "source": [
    "5 - Efectua uma análise semelhante à anterior mas considerando também a classe “Grignolino”. "
   ]
  },
  {
   "cell_type": "code",
   "execution_count": null,
   "metadata": {},
   "outputs": [],
   "source": []
  },
  {
   "cell_type": "markdown",
   "metadata": {},
   "source": [
    "6- Representa graficamente os dados usados na questão anterior para uma análise gráfica da mesma questão (recomenda-se o uso de boxplots)."
   ]
  },
  {
   "cell_type": "code",
   "execution_count": null,
   "metadata": {},
   "outputs": [],
   "source": []
  },
  {
   "cell_type": "markdown",
   "metadata": {},
   "source": [
    "7- Repete o processo da questão 4 para todas as variáveis do dataset. Qual aquela que tem maior evidência de diferenças entre as duas classes."
   ]
  },
  {
   "cell_type": "code",
   "execution_count": null,
   "metadata": {},
   "outputs": [],
   "source": []
  }
 ],
 "metadata": {
  "anaconda-cloud": {},
  "kernelspec": {
   "name": "python3",
   "display_name": "Python 3",
   "language": "python"
  },
  "language_info": {
   "codemirror_mode": {
    "name": "ipython",
    "version": 3
   },
   "file_extension": ".py",
   "mimetype": "text/x-python",
   "name": "python",
   "nbconvert_exporter": "python",
   "pygments_lexer": "ipython3",
   "version": "3.8.5-final"
  }
 },
 "nbformat": 4,
 "nbformat_minor": 1
}